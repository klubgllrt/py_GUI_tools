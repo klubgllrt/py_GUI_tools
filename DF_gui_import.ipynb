{
 "cells": [
  {
   "cell_type": "code",
   "execution_count": 1,
   "metadata": {},
   "outputs": [],
   "source": [
    "import tkinter \n",
    "from tkinter import filedialog \n",
    "import os\n",
    "import pandas as pd\n",
    "\n",
    "\n",
    "# Create class: DataShell\n",
    "class readfile:\n",
    "    \n",
    "    # Initialize class with self and integerInput arguments\n",
    "    def __init__(self, summary=False):\n",
    "        \n",
    "        root = tkinter.Tk()\n",
    "        def choose():\n",
    "            currdir = os.getcwd()\n",
    "            tempdir = filedialog.askopenfilename(parent=root, initialdir=currdir, title='Please select a directory')\n",
    "            if len(tempdir) > 0:\n",
    "                root.withdraw()\n",
    "            return tempdir\n",
    "        \n",
    "        self.location = choose()\n",
    "        self.path, self.ext = os.path.splitext(self.location)\n",
    "        \n",
    "        if self.ext == '.csv':\n",
    "            #print('# Storing CSV...')\n",
    "            self.df = pd.read_csv(self.location)\n",
    "        elif self.ext.startswith(\".xl\"):\n",
    "            #print('excel')\n",
    "            self.df = pd.read_excel(self.location)\n",
    "        \n",
    "        if summary:\n",
    "            print('path: ', self.path)\n",
    "            print('EXT: ', self.ext)\n",
    "            print(self.df.info())\n",
    "\n",
    "def openfile(summary = True):\n",
    "    reader = readfile(summary)\n",
    "    df = reader.df\n",
    "    return df"
   ]
  },
  {
   "cell_type": "code",
   "execution_count": 2,
   "metadata": {},
   "outputs": [],
   "source": [
    "# df = openfile()\n",
    "# df.head()"
   ]
  }
 ],
 "metadata": {
  "kernelspec": {
   "display_name": "Python 3",
   "language": "python",
   "name": "python3"
  },
  "language_info": {
   "codemirror_mode": {
    "name": "ipython",
    "version": 3
   },
   "file_extension": ".py",
   "mimetype": "text/x-python",
   "name": "python",
   "nbconvert_exporter": "python",
   "pygments_lexer": "ipython3",
   "version": "3.7.3"
  }
 },
 "nbformat": 4,
 "nbformat_minor": 2
}
